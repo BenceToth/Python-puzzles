{
 "cells": [
  {
   "cell_type": "code",
   "execution_count": 1,
   "id": "d3abee5a",
   "metadata": {},
   "outputs": [],
   "source": [
    "import unittest"
   ]
  },
  {
   "cell_type": "markdown",
   "id": "739cc436",
   "metadata": {},
   "source": [
    "# Binary Gap"
   ]
  },
  {
   "cell_type": "markdown",
   "id": "4adf12f6",
   "metadata": {},
   "source": [
    "A binary gap within a positive integer N is any maximal sequence of consecutive zeros that is surrounded by ones at\n",
    "both ends in the binary representation of N.\n",
    "\n",
    "For example,\n",
    "* The number 9 has binary representation 1001 and contains a binary gap of length 2.\n",
    "* The number 529 has binary representation 1000010001 and contains two binary gaps: one of length 4 and one of length 3.\n",
    "* The number 20 has binary representation 10100 and contains one binary gap of length 1.\n",
    "* The number 15 has binary representation 1111 and has no binary gaps.\n",
    "* The number 32 has binary representation 100000 and has no binary gaps.\n",
    "\n",
    "Write a function:\n",
    "`def solution(N)`\n",
    "    \n",
    "that, given a positive integer N, returns the length of its longest binary gap.\n",
    "\n",
    "The function should return 0 if N doesn't contain a binary gap.\n",
    "\n",
    "For example, given N = 1041 the function should return 5, because N has binary representation 10000010001 and so its\n",
    " longest binary gap is of length 5. Given N = 32 the function should return 0, because N has binary representation\n",
    " `'100000'` and thus no binary gaps.\n",
    "\n",
    "Write an efficient algorithm for the following assumptions:\n",
    "        N is an integer within the range [1..2,147,483,647]."
   ]
  },
  {
   "cell_type": "code",
   "execution_count": 2,
   "id": "d93a7566",
   "metadata": {},
   "outputs": [],
   "source": [
    "def solution(N):\n",
    "    \"\"\"\n",
    "    Gives back the biggest `binary gap` in an integer\n",
    "    \n",
    "    Converts the integer to a binary string\n",
    "    Iterates through the characters\n",
    "    When a zero is encountered, starts the curr_gap counter\n",
    "    Counts sequences of zeros\n",
    "    When a non-zero (1) character is encoundered, compares curr_gap with max_gap\n",
    "    Stores and updates the longest sequence into max_gap\n",
    "    Restarts the curr_gap counter.\n",
    "    Returns the biggest gap after character iteration is finished.\n",
    "    \n",
    "    Parameters\n",
    "    ----------\n",
    "    N (int): a positive integer between 1 and maxint (2,147,483,647)\n",
    "        \n",
    "    Returns\n",
    "    -------\n",
    "    int: longest continuous sequence of zeros in the binary representation of the input integer\n",
    "    \"\"\"\n",
    "    \n",
    "    # convert to binary\n",
    "    binary_str = str(bin(N)[2:])\n",
    "    curr_gap = max_gap = 0\n",
    "    # iter characters\n",
    "    for c in binary_str:\n",
    "        #count 0s\n",
    "        if c == '0':\n",
    "            curr_gap += 1\n",
    "        # 1 is encountered\n",
    "        else:\n",
    "            #update counter\n",
    "            max_gap = max(curr_gap, max_gap)\n",
    "            curr_gap = 0\n",
    "    return int(max_gap)"
   ]
  },
  {
   "cell_type": "markdown",
   "id": "8a690ab8",
   "metadata": {},
   "source": [
    "## Unit Test"
   ]
  },
  {
   "cell_type": "code",
   "execution_count": 3,
   "id": "e6b7e614",
   "metadata": {},
   "outputs": [
    {
     "name": "stderr",
     "output_type": "stream",
     "text": [
      ".................\n",
      "----------------------------------------------------------------------\n",
      "Ran 17 tests in 0.017s\n",
      "\n",
      "OK\n"
     ]
    }
   ],
   "source": [
    "class TestBinaryGap(unittest.TestCase):\n",
    "    MAXINT = 2147483647  # The largest input we need worry about.\n",
    "\n",
    "    def test_examples(self):\n",
    "        self.assertEqual(solution(9), 2)\n",
    "        self.assertEqual(solution(529), 4)\n",
    "        self.assertEqual(solution(20), 1)\n",
    "        self.assertEqual(solution(15), 0)\n",
    "        self.assertEqual(solution(32), 0)\n",
    "\n",
    "    def test_example1(self):\n",
    "        self.assertEqual(5, solution(1041))\n",
    "\n",
    "    def test_example2(self):\n",
    "        self.assertEqual(0, solution(15))\n",
    "\n",
    "    def test_extremes(self):\n",
    "        self.assertEqual(0, solution(1))\n",
    "        self.assertEqual(1, solution(5))\n",
    "        self.assertEqual(0, solution(self.MAXINT))\n",
    "\n",
    "    def test_trailing_zeros(self):\n",
    "        self.assertEqual(solution(6), 0)\n",
    "        self.assertEqual(solution(328), 2)\n",
    "\n",
    "    def test_simple1(self):\n",
    "        self.assertEqual(solution(9), 2)\n",
    "        self.assertEqual(solution(11), 1)\n",
    "        self.assertEqual(solution(32), 0)\n",
    "\n",
    "    def test_simple2(self):\n",
    "        self.assertEqual(solution(19), 2)\n",
    "        self.assertEqual(solution(42), 1)\n",
    "\n",
    "    def test_simple3(self):\n",
    "        self.assertEqual(solution(1162), 3)\n",
    "        self.assertEqual(solution(5), 1)\n",
    "\n",
    "    def test_medium1(self):\n",
    "        self.assertEqual(solution(51712), 2)\n",
    "        self.assertEqual(solution(20), 1)\n",
    "\n",
    "    def test_medium2(self):\n",
    "        self.assertEqual(solution(561892), 3)\n",
    "        self.assertEqual(solution(9), 2)\n",
    "\n",
    "    def test_medium3(self):\n",
    "        self.assertEqual(solution(66561), 9)\n",
    "\n",
    "    def test_large1(self):\n",
    "        self.assertEqual(solution(6291457), 20)\n",
    "\n",
    "    def test_large2(self):\n",
    "        self.assertEqual(solution(74901729), 4)\n",
    "\n",
    "    def test_large3(self):\n",
    "        self.assertEqual(solution(805306369), 27)\n",
    "\n",
    "    def test_large4(self):\n",
    "        self.assertEqual(solution(1376796946), 5)\n",
    "\n",
    "    def test_large5(self):\n",
    "        self.assertEqual(solution(1073741825), 29)\n",
    "\n",
    "    def test_large6(self):\n",
    "        self.assertEqual(solution(1610612737), 28)\n",
    "        \n",
    "if __name__ == '__main__':\n",
    "    unittest.main(argv=['first-arg-is-ignored'], exit=False)"
   ]
  }
 ],
 "metadata": {
  "kernelspec": {
   "display_name": "Python 3 (ipykernel)",
   "language": "python",
   "name": "python3"
  },
  "language_info": {
   "codemirror_mode": {
    "name": "ipython",
    "version": 3
   },
   "file_extension": ".py",
   "mimetype": "text/x-python",
   "name": "python",
   "nbconvert_exporter": "python",
   "pygments_lexer": "ipython3",
   "version": "3.8.13"
  }
 },
 "nbformat": 4,
 "nbformat_minor": 5
}
