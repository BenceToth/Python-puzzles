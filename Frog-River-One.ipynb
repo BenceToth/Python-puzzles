{
 "cells": [
  {
   "cell_type": "markdown",
   "id": "7b0bb301",
   "metadata": {},
   "source": [
    "# Frog River One"
   ]
  },
  {
   "cell_type": "markdown",
   "id": "439a5663",
   "metadata": {},
   "source": [
    "A small frog wants to get to the other side of a river. The frog is initially located on one bank of the river (position 0) and wants to get to the opposite bank (position X+1). Leaves fall from a tree onto the surface of the river.\n",
    "\n",
    "You are given an array `A` consisting of `N` integers representing the falling leaves. A[K] represents the position where\n",
    "one leaf falls at time `K`, measured in seconds.\n",
    "\n",
    "The goal is to find the earliest time when the frog can jump to the other side of the river. The frog can cross only\n",
    "when leaves appear at every position across the river from 1 to `X` (that is, we want to find the earliest moment when\n",
    "all the positions from 1 to `X` are covered by leaves). You may assume that the speed of the current in the river is\n",
    "negligibly small, i.e. the leaves do not change their positions once they fall in the river.\n",
    "\n",
    "For example, you are given integer `X` = 5 and array `A` such that:\n",
    "*  A[0] = 1\n",
    "*  A[1] = 3\n",
    "*  A[2] = 1\n",
    "*  A[3] = 4\n",
    "*  A[4] = 2\n",
    "*  A[5] = 3\n",
    "*  A[6] = 5\n",
    "*  A[7] = 4\n",
    "\n",
    "In second 6, a leaf falls into position 5. This is the earliest time when leaves appear in every position across the\n",
    "river.\n",
    "\n",
    "Write a function:\n",
    "    `def solution(X, A)`\n",
    "    \n",
    "that, given a non-empty array `A` consisting of `N` integers and integer `X`, returns the earliest time when the frog can jump\n",
    "to the other side of the river.\n",
    "\n",
    "If the frog is never able to jump to the other side of the river, the function should return −1.\n",
    "For example, given `X` = 5 and array `A` such that:\n",
    "*  A[0] = 1\n",
    "*  A[1] = 3\n",
    "*  A[2] = 1\n",
    "*  A[3] = 4\n",
    "*  A[4] = 2\n",
    "*  A[5] = 3\n",
    "*  A[6] = 5\n",
    "*  A[7] = 4\n",
    "\n",
    "the function should return 6, as explained above.\n",
    "\n",
    "Write an efficient algorithm for the following assumptions:\n",
    "*        `N` and `X` are integers within the range [1..100,000];\n",
    "*        each element of array `A` is an integer within the range [1..X]."
   ]
  },
  {
   "cell_type": "code",
   "execution_count": 1,
   "id": "a2d332d0",
   "metadata": {},
   "outputs": [],
   "source": [
    "def solution(X, A):\n",
    "    \"\"\"\n",
    "    Calculates the earliest time the frog can get to the other side.\n",
    "    \n",
    "    Generates a set with all position needed to be taken by leaves.\n",
    "    Iterates through the array, capturing the time (index).\n",
    "    Adds leaves to an empty array.\n",
    "    When array matches all positions, returns the time.\n",
    "    If the crossing is not possible, returns -1.\n",
    "    \n",
    "    Parameters\n",
    "    ----------\n",
    "    A (list): array of leaves falling down to specific positions on the river, range: [1, 100K], element range: [1, X]\n",
    "    X (int): , range: [1, 100K]\n",
    "    \n",
    "    Returns\n",
    "    -------\n",
    "    int: least time to get to the other side.\n",
    "    \"\"\"\n",
    "    # all positions needed\n",
    "    all_pos = set(range(1, X+1))\n",
    "    # to gather leaves\n",
    "    leaves = set()\n",
    "    # falling leaves(elem) with time(i)\n",
    "    for i, elem in enumerate(A):\n",
    "        if not elem in leaves:\n",
    "            leaves.add(elem)\n",
    "        # all positions covered\n",
    "        if leaves == all_pos:\n",
    "            return i\n",
    "    # poor frog did not make it\n",
    "    return -1"
   ]
  },
  {
   "cell_type": "markdown",
   "id": "b12511f2",
   "metadata": {},
   "source": [
    "## Unit Test"
   ]
  },
  {
   "cell_type": "code",
   "execution_count": 2,
   "id": "1a18b386",
   "metadata": {},
   "outputs": [],
   "source": [
    "import unittest\n",
    "import random"
   ]
  },
  {
   "cell_type": "code",
   "execution_count": 3,
   "id": "9d9ee4fb",
   "metadata": {},
   "outputs": [
    {
     "name": "stderr",
     "output_type": "stream",
     "text": [
      ".....\n",
      "----------------------------------------------------------------------\n",
      "Ran 5 tests in 0.105s\n",
      "\n",
      "OK\n"
     ]
    }
   ],
   "source": [
    "class TestExercise(unittest.TestCase):\n",
    "    def test_example1(self):\n",
    "        self.assertEqual(solution(5, [1, 3, 1, 4, 2, 3, 5, 4]), 6)\n",
    "\n",
    "    def test_extreme_single(self):\n",
    "        self.assertEqual(solution(1, [1]), 0)\n",
    "        self.assertEqual(solution(0, [2]), -1)\n",
    "        self.assertEqual(solution(2, [2]), -1)\n",
    "        self.assertEqual(solution(2, [2, 1]), 1)\n",
    "        self.assertEqual(solution(2, [1, 2]), 1)\n",
    "        self.assertEqual(solution(2, [1, 1]), -1)\n",
    "        self.assertEqual(solution(2, [2, 2]), -1)\n",
    "        self.assertEqual(solution(3, [1, 2]), -1)\n",
    "\n",
    "    def test_simple(self):\n",
    "        self.assertEqual(solution(3, [1, 2, 3]), 2)\n",
    "        self.assertEqual(solution(3, [2, 3, 1]), 2)\n",
    "        self.assertEqual(solution(3, [3, 2, 1]), 2)\n",
    "        self.assertEqual(solution(4, [3, 2, 1]), -1)\n",
    "        self.assertEqual(solution(3, [3, 2, 2]), -1)\n",
    "        self.assertEqual(solution(3, [3, 3, 3, 1, 1, 2]), 5)\n",
    "\n",
    "    def test_extreme_max(self):\n",
    "        X = 100000\n",
    "        A = list(range(1, X))\n",
    "        random.shuffle(A)\n",
    "        A.append(X)\n",
    "        self.assertEqual(solution(X, A), X - 1)\n",
    "\n",
    "    def test_issue_1(self):\n",
    "        \"\"\"Someone actually bothered to report a mistake.\n",
    "        https://github.com/johnmee/codility/issues/1\n",
    "        \"\"\"\n",
    "        self.assertEqual(-1, solution(3, [3, 3, 1, 1, 4]))\n",
    "\n",
    "    # Codility Tests\n",
    "    # extreme_frog - frog never crosses\n",
    "    # small_random1 - 3 random permutation X=50\n",
    "    # small_random2 - 5 random permutation X=60\n",
    "    # extreme_leaves = all leaves in the same place\n",
    "    # medium_random = 6 and 2 random permutations, X = ~5000\n",
    "    # medium_range = arithmetic sequences X = 5000\n",
    "    # large_random = 10 and 100 random permutation, X = ~10000\n",
    "    # large_permutation = permutation tests (2)\n",
    "    # large_range = arithmetic sequences X=30000\n",
    "\n",
    "\n",
    "if __name__ == '__main__':\n",
    "    unittest.main(argv=['first-arg-is-ignored'], exit=False)"
   ]
  }
 ],
 "metadata": {
  "kernelspec": {
   "display_name": "Python 3 (ipykernel)",
   "language": "python",
   "name": "python3"
  },
  "language_info": {
   "codemirror_mode": {
    "name": "ipython",
    "version": 3
   },
   "file_extension": ".py",
   "mimetype": "text/x-python",
   "name": "python",
   "nbconvert_exporter": "python",
   "pygments_lexer": "ipython3",
   "version": "3.8.13"
  }
 },
 "nbformat": 4,
 "nbformat_minor": 5
}
