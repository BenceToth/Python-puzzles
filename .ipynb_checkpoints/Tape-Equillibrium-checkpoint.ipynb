{
 "cells": [
  {
   "cell_type": "markdown",
   "id": "2a66c43e",
   "metadata": {},
   "source": [
    "# Tape Equillibrium"
   ]
  },
  {
   "cell_type": "markdown",
   "id": "09fc2cb9",
   "metadata": {},
   "source": [
    "Minimize the value |(A[0] + ... + A[P-1]) - (A[P] + ... + A[N-1])|.\n",
    "\n",
    "A non-empty array `A` consisting of `N` integers is given.\n",
    "\n",
    "Array `A` represents numbers on a tape.\n",
    "\n",
    "Any integer `P`, such that 0 < P < N, splits this tape into two non-empty parts:\n",
    "* A[0], A[1], ..., A[P − 1] and \n",
    "* A[P], A[P + 1], ..., A[N − 1].\n",
    "\n",
    "The difference between the two parts is the value of:\n",
    "* |(A[0] + A[1] + ... + A[P − 1]) − (A[P] + A[P + 1] + ... + A[N − 1])|\n",
    "\n",
    "In other words, it is the absolute difference between the sum of the first part and the sum of the second part.\n",
    "\n",
    "For example, consider array A such that:\n",
    "*  A[0] = 3\n",
    "*  A[1] = 1\n",
    "*  A[2] = 2\n",
    "*  A[3] = 4\n",
    "*  A[4] = 3\n",
    "\n",
    "We can split this tape in four places:\n",
    "*        P = 1, difference = |3 − 10| = 7\n",
    "*        P = 2, difference = |4 − 9| = 5\n",
    "*        P = 3, difference = |6 − 7| = 1\n",
    "*        P = 4, difference = |10 − 3| = 7\n",
    "\n",
    "Write a function:\n",
    "    `def solution(A)`\n",
    "    \n",
    "that, given a non-empty array `A` of `N` integers, returns the minimal difference that can be achieved.\n",
    "\n",
    "For example, given:\n",
    "*  A[0] = 3\n",
    "*  A[1] = 1\n",
    "*  A[2] = 2\n",
    "*  A[3] = 4\n",
    "*  A[4] = 3\n",
    "\n",
    "the function should return 1, as explained above.\n",
    "\n",
    "Write an efficient algorithm for the following assumptions:\n",
    "*        `N` is an integer within the range [2..100,000];\n",
    "*        each element of array `A` is an integer within the range [−1,000..1,000]."
   ]
  },
  {
   "cell_type": "code",
   "execution_count": 1,
   "id": "643fd1b3",
   "metadata": {},
   "outputs": [],
   "source": [
    "def solution(A):\n",
    "    \"\"\"\n",
    "    Calculates the minimum difference between the sums of two sides of a breakpoint in an array.\n",
    "    \n",
    "    Initiates a large difference that will be updated.\n",
    "    Iterates through all possible breakpoints.\n",
    "    Calculates sums on both sides.\n",
    "    Calculates the absolute difference of the sides.\n",
    "    Gives back the smallest difference.\n",
    "    \n",
    "    Parameters\n",
    "    ----------\n",
    "    A (list): An array of integers, range: [-1K, 1K], element range: [2, 100K]\n",
    "    \n",
    "    Returns\n",
    "    -------\n",
    "    int: the smallest difference between the sum of two sides.\n",
    "    \"\"\"\n",
    "    # initiate with a large difference\n",
    "    min_diff = 100000\n",
    "    # iterate through possible breakpoints\n",
    "    for i in range(1, len(A)):\n",
    "        # sum up each side\n",
    "        left_sum = sum(A[:i])\n",
    "        right_sum = sum(A[i:])\n",
    "        # calculate absolute difference\n",
    "        diff = abs(right_sum - left_sum)\n",
    "        # update var if current difference is smaller\n",
    "        min_diff = min(min_diff, diff)\n",
    "    \n",
    "    return min_diff"
   ]
  },
  {
   "cell_type": "markdown",
   "id": "2e8b60a0",
   "metadata": {},
   "source": [
    "## Unit Test"
   ]
  },
  {
   "cell_type": "code",
   "execution_count": 2,
   "id": "faf22134",
   "metadata": {},
   "outputs": [],
   "source": [
    "import unittest\n",
    "import random"
   ]
  },
  {
   "cell_type": "code",
   "execution_count": 3,
   "id": "ee3c3b26",
   "metadata": {},
   "outputs": [
    {
     "name": "stderr",
     "output_type": "stream",
     "text": [
      "....\n",
      "----------------------------------------------------------------------\n",
      "Ran 4 tests in 0.109s\n",
      "\n",
      "OK\n"
     ]
    }
   ],
   "source": [
    "class TestExercise(unittest.TestCase):\n",
    "    def test_example1(self):\n",
    "        self.assertEqual(solution([3, 1, 2, 4, 3]), 1)\n",
    "\n",
    "    def test_simple(self):\n",
    "        self.assertEqual(solution([1, 2]), 1)\n",
    "\n",
    "    def test_double(self):\n",
    "        self.assertEqual(solution([-1000, 1000]), 2000)\n",
    "\n",
    "    def test_random(self):\n",
    "        # Does not actually test anything but, for observation,\n",
    "        # Does run it with randomized array lengths and values.\n",
    "        N = random.randint(*(2, 100000))\n",
    "        arr = [random.randint(*(-1000, 1000)) for _ in range(N)]\n",
    "\n",
    "if __name__ == '__main__':\n",
    "    unittest.main(argv=['first-arg-is-ignored'], exit=False)"
   ]
  }
 ],
 "metadata": {
  "kernelspec": {
   "display_name": "Python 3 (ipykernel)",
   "language": "python",
   "name": "python3"
  },
  "language_info": {
   "codemirror_mode": {
    "name": "ipython",
    "version": 3
   },
   "file_extension": ".py",
   "mimetype": "text/x-python",
   "name": "python",
   "nbconvert_exporter": "python",
   "pygments_lexer": "ipython3",
   "version": "3.8.13"
  }
 },
 "nbformat": 4,
 "nbformat_minor": 5
}
