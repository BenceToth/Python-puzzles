{
 "cells": [
  {
   "cell_type": "markdown",
   "id": "739cc436",
   "metadata": {},
   "source": [
    "# Cyclic Rotation"
   ]
  },
  {
   "cell_type": "markdown",
   "id": "6fa1deee",
   "metadata": {},
   "source": [
    "An array A consisting of N integers is given. Rotation of the array means that each element is shifted right by one index, and the last element of the array is moved to the first place.\n",
    "\n",
    "For example, the rotation of array A = [3, 8, 9, 7, 6] is [6, 3, 8, 9, 7] (elements are shifted right by one index and 6 is moved to the first place).\n",
    "\n",
    "The goal is to rotate array A K times; that is, each element of A will be shifted to the right K times.\n",
    "\n",
    "Write a function:\n",
    "\n",
    "    class Solution { public int[] solution(int[] A, int K); }\n",
    "    \n",
    "that, given an array A consisting of N integers and an integer K, returns the array A rotated K times.\n",
    "\n",
    "For example, given\n",
    "*    A = [3, 8, 9, 7, 6]\n",
    "*    K = 3\n",
    "\n",
    "the function should return [9, 7, 6, 3, 8]. Three rotations were made:\n",
    "*    [3, 8, 9, 7, 6] -> [6, 3, 8, 9, 7]\n",
    "*    [6, 3, 8, 9, 7] -> [7, 6, 3, 8, 9]\n",
    "*    [7, 6, 3, 8, 9] -> [9, 7, 6, 3, 8]\n",
    "\n",
    "For another example, given\n",
    "*    A = [0, 0, 0]\n",
    "*    K = 1\n",
    "the function should return [0, 0, 0]\n",
    "\n",
    "Given\n",
    "*    A = [1, 2, 3, 4]\n",
    "*    K = 4\n",
    "the function should return [1, 2, 3, 4]\n",
    "\n",
    "Assume that:\n",
    "*        N and K are integers within the range [0..100];\n",
    "*        each element of array A is an integer within the range [−1,000..1,000].\n",
    "In your solution, focus on correctness. The performance of your solution will not be the focus of the assessment."
   ]
  },
  {
   "cell_type": "code",
   "execution_count": 1,
   "id": "298d8919",
   "metadata": {},
   "outputs": [],
   "source": [
    "def solution(A, K=0):\n",
    "    \"\"\"\n",
    "    Returns a list where the elements of the input list are cycled \"K\" times.\n",
    "    \n",
    "    Loops through list elements.\n",
    "    Calculates the new 'cycled_index' by adding K to the original (handling overflow)\n",
    "    Inserts elements to a new list at the required index position\n",
    "    \n",
    "    Parameters\n",
    "    ----------\n",
    "    A (list): The list of integers we should cycle, range: [0, 100]\n",
    "    N (int): an integer that determines how many times elements should be cycled, range: [-1000, 1000]\n",
    "        \n",
    "    Returns\n",
    "    -------\n",
    "    list: The cycled list with the required ordering of elements (shifted 'K' times recursively)\n",
    "    \"\"\"\n",
    "    # nr of elements\n",
    "    len_list = len(A)\n",
    "    # initiate new list\n",
    "    cycled_list = []\n",
    "    # EDGE CASES\n",
    "    # empty list\n",
    "    if not len(A):\n",
    "        return A\n",
    "    # no need to cycle (comes around)\n",
    "    if (len_list+K)%len_list == 0:\n",
    "        return A\n",
    "    \n",
    "    # iter through elements and their indices\n",
    "    for index, elem in enumerate(A):\n",
    "        # add element to new list to proper position\n",
    "        cycled_index = (index+K)%len_list\n",
    "        cycled_list.insert(cycled_index, elem)\n",
    "    return cycled_list"
   ]
  },
  {
   "cell_type": "markdown",
   "id": "3a443723",
   "metadata": {},
   "source": [
    "## Unit Test"
   ]
  },
  {
   "cell_type": "code",
   "execution_count": 2,
   "id": "e76acc2f",
   "metadata": {},
   "outputs": [],
   "source": [
    "import unittest\n",
    "import random"
   ]
  },
  {
   "cell_type": "code",
   "execution_count": 3,
   "id": "f496757b",
   "metadata": {},
   "outputs": [
    {
     "name": "stderr",
     "output_type": "stream",
     "text": [
      ".......\n",
      "----------------------------------------------------------------------\n",
      "Ran 7 tests in 0.007s\n",
      "\n",
      "OK\n"
     ]
    }
   ],
   "source": [
    "ARRAY_RANGE = (-1000, 1000)\n",
    "INT_RANGE = (0, 100)\n",
    "\n",
    "class TestCyclicRotation(unittest.TestCase):\n",
    "    def test_examples(self):\n",
    "        self.assertEqual(solution([3, 8, 9, 7, 6], 3), [9, 7, 6, 3, 8])\n",
    "        self.assertEqual(solution([0, 0, 0], 1), [0, 0, 0])\n",
    "        self.assertEqual(solution([1, 2, 3, 4], 4), [1, 2, 3, 4])\n",
    "\n",
    "    def test_zero(self):\n",
    "        self.assertEqual(solution([6, 3, 8, 9, 7], 0), [6, 3, 8, 9, 7])\n",
    "\n",
    "    def test_one(self):\n",
    "        self.assertEqual(solution([6, 3, 8, 9, 7], 1), [7, 6, 3, 8, 9])\n",
    "        \n",
    "    def test_reverseone(self):\n",
    "        self.assertEqual(solution([6, 3, 8, 9, 7], -1), [3, 8, 9, 7, 6])\n",
    "\n",
    "    def test_full(self):\n",
    "        self.assertEqual(solution([6, 3, 8, 9, 7], 5), [6, 3, 8, 9, 7])\n",
    "\n",
    "    def test_empty(self):\n",
    "        self.assertEqual(solution([], 5), [])\n",
    "\n",
    "    def test_random(self):\n",
    "        N = random.randint(*INT_RANGE)\n",
    "        K = random.randint(*INT_RANGE)\n",
    "        A = [random.randint(*ARRAY_RANGE) for _ in range(0, N)]\n",
    "\n",
    "if __name__ == '__main__':\n",
    "    unittest.main(argv=['first-arg-is-ignored'], exit=False)"
   ]
  }
 ],
 "metadata": {
  "kernelspec": {
   "display_name": "Python 3 (ipykernel)",
   "language": "python",
   "name": "python3"
  },
  "language_info": {
   "codemirror_mode": {
    "name": "ipython",
    "version": 3
   },
   "file_extension": ".py",
   "mimetype": "text/x-python",
   "name": "python",
   "nbconvert_exporter": "python",
   "pygments_lexer": "ipython3",
   "version": "3.8.13"
  }
 },
 "nbformat": 4,
 "nbformat_minor": 5
}
