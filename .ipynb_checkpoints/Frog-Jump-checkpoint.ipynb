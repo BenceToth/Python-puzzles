{
 "cells": [
  {
   "cell_type": "markdown",
   "id": "3d99ff7f",
   "metadata": {},
   "source": [
    "# Frog Jump"
   ]
  },
  {
   "cell_type": "markdown",
   "id": "ccda27bd",
   "metadata": {},
   "source": [
    "Count minimal number of jumps from position `X` to `Y`.\n",
    "\n",
    "A small frog wants to get to the other side of the road.\n",
    "\n",
    "The frog is currently located at position `X` and wants to get to a position greater than or equal to `Y`.\n",
    "\n",
    "The small frog always jumps a fixed distance, `D`.\n",
    "\n",
    "Count the minimal number of jumps that the small frog must perform to reach its target.\n",
    "\n",
    "Write a function:\n",
    "    `def solution(X, Y, D)`\n",
    "    \n",
    "that, given three integers `X`, `Y` and `D`, returns the minimal number of jumps from position `X` to a position equal to or greater than `Y`.\n",
    "\n",
    "For example, given:\n",
    "*  `X` = 10\n",
    "*  `Y` = 85\n",
    "*  `D` = 30\n",
    "\n",
    "the function should return 3, because the frog will be positioned as follows:\n",
    "*        after the first jump, at position 10 + 30 = 40\n",
    "*        after the second jump, at position 10 + 30 + 30 = 70\n",
    "*        after the third jump, at position 10 + 30 + 30 + 30 = 100\n",
    "\n",
    "Write an efficient algorithm for the following assumptions:\n",
    "*        `X`, `Y` and `D` are integers within the range [1..1,000,000,000];\n",
    "*        `X` ≤ `Y`."
   ]
  },
  {
   "cell_type": "code",
   "execution_count": 1,
   "id": "5c4883cb",
   "metadata": {},
   "outputs": [],
   "source": [
    "def solution (X, Y, D):\n",
    "    \"\"\"\n",
    "    Calculates the smallest number of jumps needed from position X to Y.\n",
    "    \n",
    "    Determines total distance to be travelled by subtracting current position (X) from the goal (Y).\n",
    "    Divides total distance by the fixed length of one jump (D).\n",
    "    Rounds the result and gives back an integer (would use math.ceil() to round up in a real scenario).\n",
    "    \n",
    "    Parameters\n",
    "    ----------\n",
    "    X (int): current position, range: [1, 1b]\n",
    "    Y (int): goal position, range: [1, 1b]\n",
    "    D (int): fixed distance jump, range: [1, 1b]\n",
    "    \n",
    "    Returns\n",
    "    -------\n",
    "    int: the fewest number of jumps from X to get to Y\n",
    "    \"\"\"\n",
    "    return int((Y-X)/D+0.5)"
   ]
  },
  {
   "cell_type": "markdown",
   "id": "149d8850",
   "metadata": {},
   "source": [
    "## Unit Test"
   ]
  },
  {
   "cell_type": "code",
   "execution_count": 2,
   "id": "35c457da",
   "metadata": {},
   "outputs": [],
   "source": [
    "import unittest"
   ]
  },
  {
   "cell_type": "code",
   "execution_count": 3,
   "id": "671b2956",
   "metadata": {},
   "outputs": [
    {
     "name": "stderr",
     "output_type": "stream",
     "text": [
      "......\n",
      "----------------------------------------------------------------------\n",
      "Ran 6 tests in 0.007s\n",
      "\n",
      "OK\n"
     ]
    }
   ],
   "source": [
    "class TestFrogJump(unittest.TestCase):\n",
    "    def test_example1(self):\n",
    "        self.assertEqual(solution(10, 85, 30), 3)\n",
    "\n",
    "    def test_one(self):\n",
    "        self.assertEqual(solution(0, 10, 1), 10)\n",
    "\n",
    "    def test_big_steps(self):\n",
    "        self.assertEqual(solution(0, 10, 20), 1)\n",
    "\n",
    "    def test_even_steps(self):\n",
    "        self.assertEqual(solution(10, 100, 10), 9)\n",
    "\n",
    "    def test_equal_steps(self):\n",
    "        self.assertEqual(solution(10, 10, 10), 0)\n",
    "\n",
    "    def test_odd_steps(self):\n",
    "        self.assertEqual(solution(9, 29, 10), 2)\n",
    "\n",
    "\n",
    "if __name__ == '__main__':\n",
    "    unittest.main(argv=['first-arg-is-ignored'], exit=False)"
   ]
  }
 ],
 "metadata": {
  "kernelspec": {
   "display_name": "Python 3 (ipykernel)",
   "language": "python",
   "name": "python3"
  },
  "language_info": {
   "codemirror_mode": {
    "name": "ipython",
    "version": 3
   },
   "file_extension": ".py",
   "mimetype": "text/x-python",
   "name": "python",
   "nbconvert_exporter": "python",
   "pygments_lexer": "ipython3",
   "version": "3.8.13"
  }
 },
 "nbformat": 4,
 "nbformat_minor": 5
}
