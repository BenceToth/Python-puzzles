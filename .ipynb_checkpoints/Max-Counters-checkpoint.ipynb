{
 "cells": [
  {
   "cell_type": "markdown",
   "id": "d18bd7e1",
   "metadata": {},
   "source": [
    "# Max Counters"
   ]
  },
  {
   "cell_type": "markdown",
   "id": "fc3ecbf9",
   "metadata": {},
   "source": [
    "Calculate the values of counters after applying all alternating operations: increase counter by 1; set value of all counters to current maximum.\n",
    "\n",
    "You are given `N` counters, initially set to 0, and you have two possible operations on them:\n",
    "* increase(X) - counter X is increased by 1,\n",
    "* max counter - all counters are set to the maximum value of any counter.\n",
    "\n",
    "A non-empty array `A` of `M` integers is given.\n",
    "\n",
    "This array represents consecutive operations:\n",
    "* if A[K] = X, such that 1 <= X <=  N, then operation K is increase(X),\n",
    "* if A[K] = N + 1 then operation K is max counter.\n",
    "\n",
    "For example, given integer `N` = 5 and array `A` such that:\n",
    "*    A[0] = 3\n",
    "*    A[1] = 4\n",
    "*    A[2] = 4\n",
    "*    A[3] = 6\n",
    "*    A[4] = 1\n",
    "*    A[5] = 4\n",
    "*    A[6] = 4\n",
    "\n",
    "the values of the counters after each consecutive operation will be:\n",
    "*    (0, 0, 1, 0, 0)\n",
    "*    (0, 0, 1, 1, 0)\n",
    "*    (0, 0, 1, 2, 0)\n",
    "*    (2, 2, 2, 2, 2)\n",
    "*    (3, 2, 2, 2, 2)\n",
    "*    (3, 2, 2, 3, 2)\n",
    "*    (3, 2, 2, 4, 2)\n",
    "\n",
    "The goal is to calculate the value of every counter after all operations.\n",
    "\n",
    "Write a function:\n",
    "    `def solution(N, A)`\n",
    "\n",
    "that, given an integer `N` and a non-empty array `A` consisting of `M` integers, returns a sequence of integers representing the values of the counters. Result array should be returned as an array of integers.\n",
    "\n",
    "For example, given:\n",
    "*    A[0] = 3\n",
    "*    A[1] = 4\n",
    "*    A[2] = 4\n",
    "*    A[3] = 6\n",
    "*    A[4] = 1\n",
    "*    A[5] = 4\n",
    "*    A[6] = 4\n",
    "\n",
    "the function should return [3, 2, 2, 4, 2], as explained above.\n",
    "\n",
    "Write an efficient algorithm for the following assumptions:\n",
    "*        `N` and `M` are integers within the range [1..100,000];\n",
    "*        each element of array `A` is an integer within the range [1..N + 1]."
   ]
  },
  {
   "cell_type": "code",
   "execution_count": 1,
   "id": "bbdc7611",
   "metadata": {},
   "outputs": [],
   "source": [
    "def solution(N, A):\n",
    "    \"\"\"\n",
    "    Calculates the values of N counters, either increasing them individually or setting all values to the current maximum value.\n",
    "    \n",
    "    Creates a dictionary of N counters, initializing them at 0.\n",
    "    Iterates through the input array.\n",
    "    Increases the relevant counter by 1 if element is not bigger than the number of counters.\n",
    "    If element is bigger than the number of counters, assigns the current max value for each counter.\n",
    "    Returns the list of values for each counter after the last operation.\n",
    "    \n",
    "    Parameters\n",
    "    ----------\n",
    "    N (int): The number of counters to work with, range: [1, 100K]\n",
    "    A (list): an array of operations: if element <= N, +1 for the relevant counter, if >N, set all counters to current max.\n",
    "              range: [1, N+1], element range: [1, 100K]\n",
    "    \n",
    "    Returns\n",
    "    -------\n",
    "    list: an array of integers representing the final status of each counter.\n",
    "    \"\"\"\n",
    "    # create N counters\n",
    "    counters = dict.fromkeys(range(1,N+1), 0)\n",
    "    for i in A:\n",
    "        if i<=N:\n",
    "            counters[i] += 1\n",
    "        else:\n",
    "            max_count = max(counters.values())\n",
    "            counters = {key: max_count for key in counters}\n",
    "    return list(counters.values())"
   ]
  },
  {
   "cell_type": "markdown",
   "id": "97b70059",
   "metadata": {},
   "source": [
    "## Unit Test"
   ]
  },
  {
   "cell_type": "code",
   "execution_count": 2,
   "id": "0851141d",
   "metadata": {},
   "outputs": [],
   "source": [
    "import unittest\n",
    "import random"
   ]
  },
  {
   "cell_type": "code",
   "execution_count": 3,
   "id": "d5609b66",
   "metadata": {},
   "outputs": [
    {
     "name": "stderr",
     "output_type": "stream",
     "text": [
      "....\n",
      "----------------------------------------------------------------------\n",
      "Ran 4 tests in 0.100s\n",
      "\n",
      "OK\n"
     ]
    }
   ],
   "source": [
    "class TestExercise(unittest.TestCase):\n",
    "    \"\"\"\n",
    "    example: given\n",
    "    single: only one counter\n",
    "    small_random1: small random test 6 max_counter operations\n",
    "    small_random2: small random test, 10 max_counter operations\n",
    "    medium_random1: medium random test, 50 max_counter operations\n",
    "    medium_random2: medium random test, 500 max_counter operations\n",
    "    large_random1: large random test, 2120 max_counter operations\n",
    "    large_random2: large random test, 10000 max_counter operations\n",
    "    extreme_small: all max_counter operations\n",
    "    extreme_large: all max_counter operations\n",
    "    \"\"\"\n",
    "\n",
    "    def test_example(self):\n",
    "        self.assertEqual(solution(5, [3, 4, 4, 6, 1, 4, 4]), [3, 2, 2, 4, 2])\n",
    "\n",
    "    def test_singles(self):\n",
    "        self.assertEqual(solution(1, [1]), [1])\n",
    "        self.assertEqual(solution(1, [1, 2]), [1])\n",
    "        self.assertNotEqual(solution(1, [1, 2, 2]), [2])\n",
    "        self.assertEqual(solution(1, [1, 1, 2, 1, 1]), [4])\n",
    "\n",
    "    def test_doubles(self):\n",
    "        self.assertEqual(solution(2, [1, 1, 1, 2]), [3, 1])\n",
    "        self.assertEqual(solution(2, [1, 1, 1, 3]), [3, 3])\n",
    "        self.assertEqual(solution(2, [3, 1, 1, 1]), [3, 0])\n",
    "        self.assertEqual(solution(2, [3, 1, 1, 2]), [2, 1])\n",
    "        self.assertEqual(solution(2, [1, 2, 3, 1, 2]), [2, 2])\n",
    "        self.assertEqual(solution(2, [1, 1, 3, 1, 1]), [4, 2])\n",
    "        self.assertEqual(solution(2, [1, 1, 3, 2, 2]), [2, 4])\n",
    "\n",
    "    def test_extreme(self):\n",
    "        # Ten thousand counters, 90 thousand operations.\n",
    "        arr = [random.randint(1, 9999) for _ in range(90000)]\n",
    "        #print(solution(9999, arr))\n",
    "\n",
    "\n",
    "if __name__ == '__main__':\n",
    "    unittest.main(argv=['first-arg-is-ignored'], exit=False)"
   ]
  }
 ],
 "metadata": {
  "kernelspec": {
   "display_name": "Python 3 (ipykernel)",
   "language": "python",
   "name": "python3"
  },
  "language_info": {
   "codemirror_mode": {
    "name": "ipython",
    "version": 3
   },
   "file_extension": ".py",
   "mimetype": "text/x-python",
   "name": "python",
   "nbconvert_exporter": "python",
   "pygments_lexer": "ipython3",
   "version": "3.8.13"
  }
 },
 "nbformat": 4,
 "nbformat_minor": 5
}
