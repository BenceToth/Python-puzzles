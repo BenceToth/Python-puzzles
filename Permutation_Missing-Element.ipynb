{
 "cells": [
  {
   "cell_type": "markdown",
   "id": "7d44350f",
   "metadata": {},
   "source": [
    "# Permutation - Missing Element"
   ]
  },
  {
   "cell_type": "markdown",
   "id": "81d7c585",
   "metadata": {},
   "source": [
    "Find the missing element in a given permutation.\n",
    "\n",
    "An array `A` consisting of `N` different integers is given.\n",
    "\n",
    "The array contains integers in the range [1..(N + 1)], which means that exactly one element is missing.\n",
    "\n",
    "Your goal is to find that missing element.\n",
    "\n",
    "Write a function:\n",
    "    `def solution(A)`\n",
    "    \n",
    "that, given an array `A`, returns the value of the missing element.\n",
    "\n",
    "For example, given array A such that:\n",
    "*  A[0] = 2\n",
    "*  A[1] = 3\n",
    "*  A[2] = 1\n",
    "*  A[3] = 5\n",
    "the function should return 4, as it is the missing element.\n",
    "\n",
    "Write an efficient algorithm for the following assumptions:\n",
    "*        `N` is an integer within the range [0..100,000];\n",
    "*        the elements of `A` are all distinct;\n",
    "*        each element of array `A` is an integer within the range [1..(N + 1)]."
   ]
  },
  {
   "cell_type": "code",
   "execution_count": 1,
   "id": "916b23ad",
   "metadata": {},
   "outputs": [],
   "source": [
    "def solution(A):\n",
    "    \"\"\"\n",
    "    Gives back the missing integer from an array of integers.\n",
    "    \n",
    "    Gets the number of elements in the array.\n",
    "    Generates a set with all integers between 1 and N+1.\n",
    "    Uses a set operation (difference) to return element, which is present in the generated set but not in the input array.\n",
    "    \n",
    "    \n",
    "    Parameters\n",
    "    ----------\n",
    "    A (list): an array with distinct elements, range: [1, (N+1)], element range: [0, 100K]\n",
    "    \n",
    "    Returns\n",
    "    -------\n",
    "    \n",
    "    \"\"\"\n",
    "    # nr of elements\n",
    "    N = len(A)\n",
    "    # generate a set that contains every number in range\n",
    "    helper_set = set(range(1,N+2))\n",
    "    # difference between objects is the missing integer\n",
    "    diff=list(helper_set.difference(A))[0]\n",
    "    \n",
    "    return int(diff)"
   ]
  },
  {
   "cell_type": "markdown",
   "id": "898b91ad",
   "metadata": {},
   "source": [
    "## Unit Test"
   ]
  },
  {
   "cell_type": "code",
   "execution_count": 2,
   "id": "562b43d6",
   "metadata": {},
   "outputs": [],
   "source": [
    "import unittest\n",
    "import random"
   ]
  },
  {
   "cell_type": "code",
   "execution_count": 3,
   "id": "7cbf166b",
   "metadata": {},
   "outputs": [
    {
     "name": "stderr",
     "output_type": "stream",
     "text": [
      "....\n",
      "----------------------------------------------------------------------\n",
      "Ran 4 tests in 0.032s\n",
      "\n",
      "OK\n"
     ]
    }
   ],
   "source": [
    "class TestExercise(unittest.TestCase):\n",
    "\n",
    "    INT_RANGE = (0, 100000)\n",
    "\n",
    "    def test_example1(self):\n",
    "        self.assertEqual(solution([2, 3, 1, 5]), 4)\n",
    "\n",
    "    def test_single(self):\n",
    "        self.assertEqual(solution([2]), 1)\n",
    "        self.assertEqual(solution([1]), 2)\n",
    "\n",
    "    def test_random(self):\n",
    "        arr = [n for n in range(1, random.randint(*self.INT_RANGE))]\n",
    "        missing = random.randint(0, len(arr))\n",
    "        arr.remove(missing)\n",
    "        self.assertEqual(solution(arr), missing)\n",
    "\n",
    "    def test_maximum(self):\n",
    "        arr = [n for n in range(1, self.INT_RANGE[1] + 1)]\n",
    "        arr.pop()\n",
    "        self.assertEqual(solution(arr), self.INT_RANGE[1])\n",
    "\n",
    "\n",
    "if __name__ == '__main__':\n",
    "    unittest.main(argv=['first-arg-is-ignored'], exit=False)"
   ]
  }
 ],
 "metadata": {
  "kernelspec": {
   "display_name": "Python 3 (ipykernel)",
   "language": "python",
   "name": "python3"
  },
  "language_info": {
   "codemirror_mode": {
    "name": "ipython",
    "version": 3
   },
   "file_extension": ".py",
   "mimetype": "text/x-python",
   "name": "python",
   "nbconvert_exporter": "python",
   "pygments_lexer": "ipython3",
   "version": "3.8.13"
  }
 },
 "nbformat": 4,
 "nbformat_minor": 5
}
