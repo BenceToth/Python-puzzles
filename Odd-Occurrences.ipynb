{
 "cells": [
  {
   "cell_type": "markdown",
   "id": "9e547af7",
   "metadata": {},
   "source": [
    "# Odd Occurrences In Array"
   ]
  },
  {
   "cell_type": "markdown",
   "id": "b0fcf220",
   "metadata": {},
   "source": [
    "A non-empty array A consisting of N integers is given.\n",
    "\n",
    "The array contains an odd number of elements, and each element of the array can be paired with another element that has the same value, except for one element that is left unpaired.\n",
    "\n",
    "For example, in array A such that:\n",
    "*  A[0] = 9  A[1] = 3  A[2] = 9\n",
    "*  A[3] = 3  A[4] = 9  A[5] = 7\n",
    "*  A[6] = 9\n",
    "**        the elements at indexes 0 and 2 have value 9,\n",
    "**        the elements at indexes 1 and 3 have value 3,\n",
    "**        the elements at indexes 4 and 6 have value 9,\n",
    "**        the element at index 5 has value 7 and is unpaired.\n",
    "\n",
    "Write a function:\n",
    "    `def solution(A)`\n",
    "    \n",
    "that, given an array A consisting of N integers fulfilling the above conditions, returns the value of the unpaired element.\n",
    "\n",
    "For example, given array A such that:\n",
    "*  A[0] = 9  A[1] = 3  A[2] = 9\n",
    "*  A[3] = 3  A[4] = 9  A[5] = 7\n",
    "*  A[6] = 9\n",
    "\n",
    "the function should return 7, as explained in the example above.\n",
    "\n",
    "Write an efficient algorithm for the following assumptions:\n",
    "*        N is an odd integer within the range [1..1,000,000];\n",
    "*        each element of array A is an integer within the range [1..1,000,000,000];\n",
    "*        all but one of the values in A occur an even number of times."
   ]
  },
  {
   "cell_type": "code",
   "execution_count": null,
   "id": "caa2fd10",
   "metadata": {},
   "outputs": [],
   "source": [
    "def solution(A)"
   ]
  },
  {
   "cell_type": "markdown",
   "id": "e9314c06",
   "metadata": {},
   "source": [
    "## Unit Test"
   ]
  },
  {
   "cell_type": "code",
   "execution_count": 1,
   "id": "4c660cdd",
   "metadata": {},
   "outputs": [],
   "source": [
    "import unittest\n",
    "import random"
   ]
  },
  {
   "cell_type": "code",
   "execution_count": null,
   "id": "16bf1dea",
   "metadata": {},
   "outputs": [],
   "source": [
    "\n",
    "class TestOddOccurencesInArray(unittest.TestCase):\n",
    "\n",
    "    MAX_N = 1000000  # Max value in the array.\n",
    "    MAX_A = 1000000000  # Max length of the array.\n",
    "\n",
    "    @staticmethod\n",
    "    def gen_array(L, odd):\n",
    "        \"\"\"Generate a list of sample data: random integers in pairs.\n",
    "        :param L: the length of the list is double this int\n",
    "        :param odd: the odd integer out\n",
    "        * Generate a list of random ints half the size required.\n",
    "        * Join it to a duplicate of itself.\n",
    "        * Append the odd value.\n",
    "        * Shuffle the array and return.\n",
    "        \"\"\"\n",
    "        arr = []\n",
    "        for _ in range((L - 1) // 2):\n",
    "            val = random.randint(1, TestOddOccurencesInArray.MAX_N)\n",
    "            arr.extend((val, val))\n",
    "        arr.append(odd)\n",
    "        random.shuffle(arr)\n",
    "        return arr\n",
    "\n",
    "    def test_sample_generation(self):\n",
    "        print(self.gen_array(5, 1))\n",
    "\n",
    "    def test_example1(self):\n",
    "        arr = [9, 3, 9, 3, 9, 7, 9]\n",
    "        self.assertEqual(7, solution(arr))\n",
    "\n",
    "    def test_simple1(self):\n",
    "        \"\"\"simple test n=5\"\"\"\n",
    "        arr = self.gen_array(5, 4)\n",
    "        self.assertEqual(4, solution(arr))\n",
    "\n",
    "    def test_simple2(self):\n",
    "        \"\"\"simple test n=11\"\"\"\n",
    "        arr = self.gen_array(11, 4)\n",
    "        self.assertEqual(4, solution(arr))\n",
    "\n",
    "    def test_extreme_single_item(self):\n",
    "        \"\"\"list containing one item\"\"\"\n",
    "        self.assertEqual(42, solution([42]))\n",
    "\n",
    "    def test_small1(self):\n",
    "        \"\"\"small random test n=201\"\"\"\n",
    "        arr = self.gen_array(201, 42)\n",
    "        self.assertEqual(42, solution(arr))\n",
    "\n",
    "    def test_small2(self):\n",
    "        \"\"\"small random test n=601\"\"\"\n",
    "        arr = self.gen_array(601, 4242)\n",
    "        self.assertEqual(4242, solution(arr))\n",
    "\n",
    "    def test_medium1(self):\n",
    "        \"\"\"medium random test n=2001\"\"\"\n",
    "        arr = self.gen_array(2001, 100)\n",
    "        self.assertEqual(100, solution(arr))\n",
    "\n",
    "    def test_medium2(self):\n",
    "        \"\"\"medium random test n=100,003\"\"\"\n",
    "        arr = self.gen_array(100003, 500000)\n",
    "        self.assertEqual(500000, solution(arr))\n",
    "\n",
    "    def test_big1(self):\n",
    "        \"\"\"big random test n=999,999, multiple repetitions\"\"\"\n",
    "        arr = self.gen_array(100003, 700)\n",
    "        self.assertEqual(700, solution(arr))\n",
    "\n",
    "    def test_big2(self):\n",
    "        \"\"\"big random test n=999,999\"\"\"\n",
    "        arr = self.gen_array(999999, 5000111222)\n",
    "        self.assertEqual(5000111222, solution(arr))\n",
    "\n",
    "\n",
    "if __name__ == '__main__':\n",
    "    unittest.main(argv=['first-arg-is-ignored'], exit=False)"
   ]
  }
 ],
 "metadata": {
  "kernelspec": {
   "display_name": "Python 3 (ipykernel)",
   "language": "python",
   "name": "python3"
  },
  "language_info": {
   "codemirror_mode": {
    "name": "ipython",
    "version": 3
   },
   "file_extension": ".py",
   "mimetype": "text/x-python",
   "name": "python",
   "nbconvert_exporter": "python",
   "pygments_lexer": "ipython3",
   "version": "3.8.13"
  }
 },
 "nbformat": 4,
 "nbformat_minor": 5
}
